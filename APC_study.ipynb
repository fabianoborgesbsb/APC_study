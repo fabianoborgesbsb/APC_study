{
  "cells": [
    {
      "cell_type": "markdown",
      "metadata": {
        "id": "view-in-github",
        "colab_type": "text"
      },
      "source": [
        "<a href=\"https://colab.research.google.com/github/fabianoborgesbsb/APC_study/blob/main/APC_study.ipynb\" target=\"_parent\"><img src=\"https://colab.research.google.com/assets/colab-badge.svg\" alt=\"Open In Colab\"/></a>"
      ]
    },
    {
      "cell_type": "code",
      "execution_count": null,
      "metadata": {
        "id": "h2IAP3JBWJbi"
      },
      "outputs": [],
      "source": [
        "from google.colab import auth\n",
        "auth.authenticate_user()\n",
        "print('Authenticated')"
      ]
    },
    {
      "cell_type": "code",
      "source": [
        "from google.colab import drive\n",
        "drive.mount('/content/drive')"
      ],
      "metadata": {
        "id": "Qi0pdUH2kCFF"
      },
      "execution_count": null,
      "outputs": []
    },
    {
      "cell_type": "code",
      "execution_count": null,
      "metadata": {
        "id": "bkgWANPRVl0K"
      },
      "outputs": [],
      "source": [
        "import numpy as np\n",
        "import pandas as pd\n",
        "import pandas_gbq\n",
        "import matplotlib.pyplot as plt"
      ]
    },
    {
      "cell_type": "code",
      "source": [
        "import os\n",
        "\n",
        "file_path = '/content/drive/My Drive/APC_study.ipynb'\n",
        "print(os.path.exists(file_path))  # Deve retornar: True\n"
      ],
      "metadata": {
        "id": "9vQ2U2aphvb2"
      },
      "execution_count": null,
      "outputs": []
    },
    {
      "cell_type": "code",
      "source": [
        "import nbformat\n",
        "\n",
        "with open(file_path, 'r', encoding='utf-8') as f:\n",
        "    nb = nbformat.read(f, as_version=4)\n",
        "\n",
        "for cell in nb.cells:\n",
        "    if 'metadata' in cell and 'widgets' in cell['metadata']:\n",
        "        del cell['metadata']['widgets']\n",
        "\n",
        "# Salvar como novo notebook (opcional)\n",
        "with open('/content/drive/My Drive/APC_study_fixed.ipynb', 'w', encoding='utf-8') as f:\n",
        "    nbformat.write(nb, f)\n",
        "\n"
      ],
      "metadata": {
        "id": "gRgs2jXhi26R"
      },
      "execution_count": null,
      "outputs": []
    },
    {
      "cell_type": "markdown",
      "metadata": {
        "id": "TsCKZiR5Ozhq"
      },
      "source": [
        "# Average APC each country"
      ]
    },
    {
      "cell_type": "code",
      "execution_count": null,
      "metadata": {
        "id": "8Y3SsdWDWhyb"
      },
      "outputs": [],
      "source": [
        "%%bigquery --project=insyspo\n",
        "\n",
        "SELECT countries.country_code,\n",
        "  ANY_VALUE(countries.country) AS country,\n",
        "  AVG(CAST(apcs.value_usd AS FLOAT64)) AS avg_value_usd\n",
        "FROM `insyspo.publicdb_openalex_2024_04_rm.works_apc` AS apcs\n",
        "JOIN (\n",
        "  SELECT DISTINCT apcs.id, authorships.institution_id\n",
        "  FROM `insyspo.publicdb_openalex_2024_04_rm.works_apc` AS apcs\n",
        "  JOIN `insyspo.publicdb_openalex_2024_04_rm.works_authorships` AS authorships\n",
        "  ON apcs.id = authorships.work_id\n",
        ") AS institutions\n",
        "ON apcs.id = institutions.id\n",
        "JOIN `insyspo.publicdb_openalex_2024_04_rm.institutions` AS countries\n",
        "ON institutions.institution_id = countries.id\n",
        "GROUP BY countries.country_code\n",
        "ORDER BY avg_value_usd DESC;"
      ]
    },
    {
      "cell_type": "markdown",
      "metadata": {
        "id": "qsh2R4-QO3wC"
      },
      "source": [
        "# Average APC every year each country"
      ]
    },
    {
      "cell_type": "code",
      "execution_count": null,
      "metadata": {
        "id": "XroJir-FXF-p"
      },
      "outputs": [],
      "source": [
        "%%bigquery --project=insyspo\n",
        "\n",
        "DROP TABLE IF EXISTS userdb_luis_fabiano_borges.apcs;\n",
        "CREATE TABLE userdb_luis_fabiano_borges.apcs AS (\n",
        "  SELECT countries.country_code,\n",
        "    institutions.publication_year,\n",
        "    ANY_VALUE(countries.country) AS country,\n",
        "    AVG(CAST(apcs.value_usd AS FLOAT64)) AS avg_value_usd,\n",
        "    COUNT(DISTINCT apcs.id) AS works\n",
        "  FROM `insyspo.publicdb_openalex_2024_04_rm.works_apc` AS apcs\n",
        "  JOIN (\n",
        "    SELECT DISTINCT apcs.id, authorships.institution_id, works.publication_year\n",
        "    FROM `insyspo.publicdb_openalex_2024_04_rm.works_apc` AS apcs\n",
        "    JOIN `insyspo.publicdb_openalex_2024_04_rm.works_authorships` AS authorships\n",
        "    ON apcs.id = authorships.work_id\n",
        "    JOIN `insyspo.publicdb_openalex_2024_04_rm.works` AS works\n",
        "    ON works.id = apcs.id\n",
        "  ) AS institutions\n",
        "  ON apcs.id = institutions.id\n",
        "  JOIN `insyspo.publicdb_openalex_2024_04_rm.institutions` AS countries\n",
        "  ON institutions.institution_id = countries.id\n",
        "  WHERE institutions.publication_year >= 1990\n",
        "    AND institutions.publication_year <= 2024\n",
        "  GROUP BY countries.country_code, institutions.publication_year\n",
        "  HAVING AVG(CAST(apcs.value_usd AS FLOAT64)) > 0.0\n",
        "  ORDER BY institutions.publication_year, countries.country_code\n",
        ")"
      ]
    },
    {
      "cell_type": "code",
      "execution_count": null,
      "metadata": {
        "id": "XxjgCoCvcCp6"
      },
      "outputs": [],
      "source": [
        "%%bigquery df --project=insyspo\n",
        "\n",
        "SELECT *\n",
        "FROM userdb_luis_fabiano_borges.apcs"
      ]
    },
    {
      "cell_type": "markdown",
      "metadata": {
        "id": "rQHDKzJCOwpD"
      },
      "source": [
        "# Each field"
      ]
    },
    {
      "cell_type": "code",
      "execution_count": null,
      "metadata": {
        "id": "uyJXxkaGMedb"
      },
      "outputs": [],
      "source": [
        "%%bigquery --project=insyspo\n",
        "\n",
        "DROP TABLE IF EXISTS userdb_luis_fabiano_borges.apcs_engineering;\n",
        "CREATE TABLE userdb_luis_fabiano_borges.apcs_engineering AS (\n",
        "  SELECT countries.country_code,\n",
        "    institutions.publication_year,\n",
        "    ANY_VALUE(countries.country) AS country,\n",
        "    AVG(CAST(apcs.value_usd AS FLOAT64)) AS avg_value_usd,\n",
        "    COUNT(DISTINCT apcs.id) AS works\n",
        "  FROM `insyspo.publicdb_openalex_2024_04_rm.works_apc` AS apcs\n",
        "  JOIN (\n",
        "    SELECT DISTINCT apcs.id, authorships.institution_id,\n",
        "      works.publication_year\n",
        "    FROM `insyspo.publicdb_openalex_2024_04_rm.works_apc` AS apcs\n",
        "    JOIN `insyspo.publicdb_openalex_2024_04_rm.works_authorships` AS authorships\n",
        "    ON apcs.id = authorships.work_id\n",
        "    JOIN `insyspo.publicdb_openalex_2024_04_rm.works` AS works\n",
        "    ON works.id = apcs.id\n",
        "    JOIN `insyspo.publicdb_openalex_2024_04_rm.works_topics` AS works_topics\n",
        "    ON works.id = works_topics.work_id\n",
        "    JOIN `insyspo.publicdb_openalex_2024_04_rm.topics` AS topics\n",
        "    ON works_topics.topic_id = topics.id\n",
        "    WHERE topics.field = 22\n",
        "  ) AS institutions\n",
        "  ON apcs.id = institutions.id\n",
        "  JOIN `insyspo.publicdb_openalex_2024_04_rm.institutions` AS countries\n",
        "  ON institutions.institution_id = countries.id\n",
        "  WHERE institutions.publication_year >= 1990\n",
        "  AND institutions.publication_year <= 2024\n",
        "  GROUP BY countries.country_code, institutions.publication_year\n",
        "  HAVING AVG(CAST(apcs.value_usd AS FLOAT64)) > 0.0\n",
        "  ORDER BY institutions.publication_year, countries.country_code\n",
        ");"
      ]
    },
    {
      "cell_type": "markdown",
      "metadata": {
        "id": "_iqjls2jblUS"
      },
      "source": [
        "# Correct tables for missing country codes"
      ]
    },
    {
      "cell_type": "markdown",
      "metadata": {
        "id": "DLgIhYl2jrXs"
      },
      "source": [
        "Aggregate"
      ]
    },
    {
      "cell_type": "code",
      "execution_count": null,
      "metadata": {
        "id": "WRCIO3MTUssC"
      },
      "outputs": [],
      "source": [
        "%%bigquery df --project=insyspo\n",
        "\n",
        "SELECT *\n",
        "FROM userdb_luis_fabiano_borges.apcs"
      ]
    },
    {
      "cell_type": "code",
      "execution_count": null,
      "metadata": {
        "id": "3_SxtfBRWexi"
      },
      "outputs": [],
      "source": [
        "df.columns"
      ]
    },
    {
      "cell_type": "code",
      "execution_count": null,
      "metadata": {
        "id": "Rw3_S_QoVZ4y"
      },
      "outputs": [],
      "source": [
        "row_drop = []\n",
        "for i, cc in enumerate(df['country_code']):\n",
        "  if cc == None:\n",
        "    if df.loc[i,'country'] == 'France':\n",
        "      ccode = 'FR'\n",
        "    elif df.loc[i,'country'] == 'India':\n",
        "      ccode = 'IN'\n",
        "    elif df.loc[i,'country'][:6] == 'United':\n",
        "      ccode = 'US'\n",
        "    elif df.loc[i,'country'] == 'China':\n",
        "      ccode = 'CN'\n",
        "    elif df.loc[i,'country'] == 'Netherlands':\n",
        "      ccode = 'NL'\n",
        "\n",
        "    k = df.index[(df['publication_year'] == df.loc[i,'publication_year']) & (df['country_code'] == ccode)][0]\n",
        "    df.loc[k,'avg_value_usd'] = (df.loc[k,'avg_value_usd']*df.loc[k,'works'] +\n",
        "                                 df.loc[i,'avg_value_usd']*df.loc[i,'works']) / (df.loc[k,'works'] + df.loc[i,'works'])\n",
        "    row_drop.append(i)"
      ]
    },
    {
      "cell_type": "code",
      "execution_count": null,
      "metadata": {
        "id": "yeA_BmHgZ5HF"
      },
      "outputs": [],
      "source": [
        "df['country'].replace([\"The Netherlands\"], [\"Netherlands\"], inplace=True)\n",
        "df[df['country']=='Netherlands']"
      ]
    },
    {
      "cell_type": "code",
      "execution_count": null,
      "metadata": {
        "id": "erz_Ni8DVbhQ"
      },
      "outputs": [],
      "source": [
        "df.drop(row_drop,axis=0, inplace=True)"
      ]
    },
    {
      "cell_type": "code",
      "execution_count": null,
      "metadata": {
        "id": "6o_gXxV5ZNKQ"
      },
      "outputs": [],
      "source": [
        "df.to_gbq(project_id='insyspo',destination_table='userdb_luis_fabiano_borges.apcs',if_exists ='replace')"
      ]
    },
    {
      "cell_type": "markdown",
      "metadata": {
        "id": "Pyln81IbjwxI"
      },
      "source": [
        "Computer Science"
      ]
    },
    {
      "cell_type": "code",
      "execution_count": null,
      "metadata": {
        "id": "4lqQx2VwjyPz"
      },
      "outputs": [],
      "source": [
        "%%bigquery df --project=insyspo\n",
        "\n",
        "SELECT *\n",
        "FROM userdb_luis_fabiano_borges.apcs_computer_science"
      ]
    },
    {
      "cell_type": "code",
      "execution_count": null,
      "metadata": {
        "id": "G5t8J2s_kxFl"
      },
      "outputs": [],
      "source": [
        "row_drop = []\n",
        "for i, cc in enumerate(df['country_code']):\n",
        "  if cc == None:\n",
        "    if df.loc[i,'country'] == 'France':\n",
        "      ccode = 'FR'\n",
        "    elif df.loc[i,'country'] == 'India':\n",
        "      ccode = 'IN'\n",
        "    elif df.loc[i,'country'][:6] == 'United':\n",
        "      ccode = 'US'\n",
        "    elif df.loc[i,'country'] == 'China':\n",
        "      ccode = 'CN'\n",
        "    elif df.loc[i,'country'] == 'Netherlands':\n",
        "      ccode = 'NL'\n",
        "\n",
        "    k = df.index[(df['publication_year'] == df.loc[i,'publication_year']) & (df['country_code'] == ccode)][0]\n",
        "    df.loc[k,'avg_value_usd'] = (df.loc[k,'avg_value_usd']*df.loc[k,'works'] +\n",
        "                                 df.loc[i,'avg_value_usd']*df.loc[i,'works']) / (df.loc[k,'works'] + df.loc[i,'works'])\n",
        "    row_drop.append(i)\n",
        "\n",
        "df['country'].replace([\"The Netherlands\"], [\"Netherlands\"], inplace=True)\n",
        "df.drop(row_drop,axis=0, inplace=True)\n",
        "df.to_gbq(project_id='insyspo',destination_table='userdb_luis_fabiano_borges.apcs_computer_science',if_exists ='replace')\n"
      ]
    },
    {
      "cell_type": "markdown",
      "metadata": {
        "id": "7yAwgNU-mili"
      },
      "source": [
        "Medicine\n"
      ]
    },
    {
      "cell_type": "code",
      "execution_count": null,
      "metadata": {
        "id": "-We_DOaRmrFK"
      },
      "outputs": [],
      "source": [
        "%%bigquery df --project=insyspo\n",
        "\n",
        "SELECT *\n",
        "FROM userdb_luis_fabiano_borges.apcs_medicine"
      ]
    },
    {
      "cell_type": "code",
      "execution_count": null,
      "metadata": {
        "id": "P6x0gubmlr4R"
      },
      "outputs": [],
      "source": [
        "row_drop = []\n",
        "for i, cc in enumerate(df['country_code']):\n",
        "  if cc == None:\n",
        "    if df.loc[i,'country'] == 'France':\n",
        "      ccode = 'FR'\n",
        "    elif df.loc[i,'country'] == 'India':\n",
        "      ccode = 'IN'\n",
        "    elif df.loc[i,'country'][:6] == 'United':\n",
        "      ccode = 'US'\n",
        "    elif df.loc[i,'country'] == 'China':\n",
        "      ccode = 'CN'\n",
        "    elif df.loc[i,'country'] == 'Netherlands':\n",
        "      ccode = 'NL'\n",
        "\n",
        "    k = df.index[(df['publication_year'] == df.loc[i,'publication_year']) & (df['country_code'] == ccode)][0]\n",
        "    df.loc[k,'avg_value_usd'] = (df.loc[k,'avg_value_usd']*df.loc[k,'works'] +\n",
        "                                 df.loc[i,'avg_value_usd']*df.loc[i,'works']) / (df.loc[k,'works'] + df.loc[i,'works'])\n",
        "    row_drop.append(i)\n",
        "\n",
        "df['country'].replace([\"The Netherlands\"], [\"Netherlands\"], inplace=True)\n",
        "df.drop(row_drop,axis=0, inplace=True)\n",
        "df.to_gbq(project_id='insyspo',destination_table='userdb_luis_fabiano_borges.apcs_medicine',if_exists ='replace')\n"
      ]
    },
    {
      "cell_type": "markdown",
      "metadata": {
        "id": "FmTKIt0_mu3w"
      },
      "source": [
        "Engineering"
      ]
    },
    {
      "cell_type": "code",
      "execution_count": null,
      "metadata": {
        "id": "9noShr2yny_v"
      },
      "outputs": [],
      "source": [
        "%%bigquery df --project=insyspo\n",
        "\n",
        "SELECT *\n",
        "FROM userdb_luis_fabiano_borges.apcs_engineering"
      ]
    },
    {
      "cell_type": "code",
      "execution_count": null,
      "metadata": {
        "id": "fD_i2uTVmwuF"
      },
      "outputs": [],
      "source": [
        "row_drop = []\n",
        "for i, cc in enumerate(df['country_code']):\n",
        "  if cc == None:\n",
        "    if df.loc[i,'country'] == 'France':\n",
        "      ccode = 'FR'\n",
        "    elif df.loc[i,'country'] == 'India':\n",
        "      ccode = 'IN'\n",
        "    elif df.loc[i,'country'][:6] == 'United':\n",
        "      ccode = 'US'\n",
        "    elif df.loc[i,'country'] == 'China':\n",
        "      ccode = 'CN'\n",
        "    elif df.loc[i,'country'] == 'Netherlands':\n",
        "      ccode = 'NL'\n",
        "\n",
        "    k = df.index[(df['publication_year'] == df.loc[i,'publication_year']) & (df['country_code'] == ccode)][0]\n",
        "    df.loc[k,'avg_value_usd'] = (df.loc[k,'avg_value_usd']*df.loc[k,'works'] +\n",
        "                                 df.loc[i,'avg_value_usd']*df.loc[i,'works']) / (df.loc[k,'works'] + df.loc[i,'works'])\n",
        "    row_drop.append(i)\n",
        "\n",
        "df['country'].replace([\"The Netherlands\"], [\"Netherlands\"], inplace=True)\n",
        "df.drop(row_drop,axis=0, inplace=True)\n",
        "df.to_gbq(project_id='insyspo',destination_table='userdb_luis_fabiano_borges.apcs_engineering',if_exists ='replace')\n"
      ]
    },
    {
      "cell_type": "markdown",
      "metadata": {
        "id": "RVSC5HoImyNZ"
      },
      "source": [
        "Physics"
      ]
    },
    {
      "cell_type": "code",
      "execution_count": null,
      "metadata": {
        "id": "zNH_t08qn2C6"
      },
      "outputs": [],
      "source": [
        "%%bigquery df --project=insyspo\n",
        "\n",
        "SELECT *\n",
        "FROM userdb_luis_fabiano_borges.apcs_physics"
      ]
    },
    {
      "cell_type": "code",
      "execution_count": null,
      "metadata": {
        "id": "cg-8pjHomzs6"
      },
      "outputs": [],
      "source": [
        "row_drop = []\n",
        "for i, cc in enumerate(df['country_code']):\n",
        "  if cc == None:\n",
        "    if df.loc[i,'country'] == 'France':\n",
        "      ccode = 'FR'\n",
        "    elif df.loc[i,'country'] == 'India':\n",
        "      ccode = 'IN'\n",
        "    elif df.loc[i,'country'][:6] == 'United':\n",
        "      ccode = 'US'\n",
        "    elif df.loc[i,'country'] == 'China':\n",
        "      ccode = 'CN'\n",
        "    elif df.loc[i,'country'] == 'Netherlands':\n",
        "      ccode = 'NL'\n",
        "\n",
        "    k = df.index[(df['publication_year'] == df.loc[i,'publication_year']) & (df['country_code'] == ccode)][0]\n",
        "    df.loc[k,'avg_value_usd'] = (df.loc[k,'avg_value_usd']*df.loc[k,'works'] +\n",
        "                                 df.loc[i,'avg_value_usd']*df.loc[i,'works']) / (df.loc[k,'works'] + df.loc[i,'works'])\n",
        "    row_drop.append(i)\n",
        "\n",
        "df['country'].replace([\"The Netherlands\"], [\"Netherlands\"], inplace=True)\n",
        "df.drop(row_drop,axis=0, inplace=True)\n",
        "df.to_gbq(project_id='insyspo',destination_table='userdb_luis_fabiano_borges.apcs_physics',if_exists ='replace')\n"
      ]
    }
  ],
  "metadata": {
    "colab": {
      "provenance": [],
      "include_colab_link": true
    },
    "kernelspec": {
      "display_name": "Python 3",
      "name": "python3"
    },
    "language_info": {
      "name": "python"
    }
  },
  "nbformat": 4,
  "nbformat_minor": 0
}